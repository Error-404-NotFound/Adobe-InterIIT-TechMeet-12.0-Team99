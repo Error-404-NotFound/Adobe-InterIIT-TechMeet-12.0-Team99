{
  "metadata": {
    "colab": {
      "provenance": []
    },
    "kernelspec": {
      "name": "python3",
      "display_name": "Python 3"
    },
    "language_info": {
      "name": "python",
      "version": "3.10.12",
      "mimetype": "text/x-python",
      "codemirror_mode": {
        "name": "ipython",
        "version": 3
      },
      "pygments_lexer": "ipython3",
      "nbconvert_exporter": "python",
      "file_extension": ".py"
    },
    "kaggle": {
      "accelerator": "gpu",
      "dataSources": [
        {
          "sourceId": 7199440,
          "sourceType": "datasetVersion",
          "datasetId": 4164110
        },
        {
          "sourceId": 7201212,
          "sourceType": "datasetVersion",
          "datasetId": 4165472
        },
        {
          "sourceId": 7209889,
          "sourceType": "datasetVersion",
          "datasetId": 4171671
        },
        {
          "sourceId": 7210287,
          "sourceType": "datasetVersion",
          "datasetId": 4171959
        },
        {
          "sourceId": 7210372,
          "sourceType": "datasetVersion",
          "datasetId": 4172032
        },
        {
          "sourceId": 7255024,
          "sourceType": "datasetVersion",
          "datasetId": 4203977
        }
      ],
      "dockerImageVersionId": 30627,
      "isInternetEnabled": true,
      "language": "python",
      "sourceType": "notebook",
      "isGpuEnabled": true
    }
  },
  "nbformat_minor": 0,
  "nbformat": 4,
  "cells": [
    {
      "cell_type": "markdown",
      "source": [
        "# Installing required libraries"
      ],
      "metadata": {
        "id": "yhCCiqf2lmn4"
      }
    },
    {
      "cell_type": "code",
      "source": [
        "!pip install tensorflow tensorflow-hub\n",
        "!pip install pandas\n",
        "!pip install torch"
      ],
      "metadata": {
        "id": "IGX5EiBNiyv8",
        "execution": {
          "iopub.status.busy": "2023-12-21T13:20:46.339567Z",
          "iopub.execute_input": "2023-12-21T13:20:46.340217Z",
          "iopub.status.idle": "2023-12-21T13:21:22.515869Z",
          "shell.execute_reply.started": "2023-12-21T13:20:46.340189Z",
          "shell.execute_reply": "2023-12-21T13:21:22.514761Z"
        },
        "trusted": true,
        "outputId": "e2973a70-1150-4039-c39e-26c61036fb4b",
        "colab": {
          "base_uri": "https://localhost:8080/"
        }
      },
      "execution_count": null,
      "outputs": [
        {
          "output_type": "stream",
          "name": "stdout",
          "text": [
            "Requirement already satisfied: tensorflow in /usr/local/lib/python3.10/dist-packages (2.15.0)\n",
            "Requirement already satisfied: tensorflow-hub in /usr/local/lib/python3.10/dist-packages (0.15.0)\n",
            "Requirement already satisfied: absl-py>=1.0.0 in /usr/local/lib/python3.10/dist-packages (from tensorflow) (1.4.0)\n",
            "Requirement already satisfied: astunparse>=1.6.0 in /usr/local/lib/python3.10/dist-packages (from tensorflow) (1.6.3)\n",
            "Requirement already satisfied: flatbuffers>=23.5.26 in /usr/local/lib/python3.10/dist-packages (from tensorflow) (23.5.26)\n",
            "Requirement already satisfied: gast!=0.5.0,!=0.5.1,!=0.5.2,>=0.2.1 in /usr/local/lib/python3.10/dist-packages (from tensorflow) (0.5.4)\n",
            "Requirement already satisfied: google-pasta>=0.1.1 in /usr/local/lib/python3.10/dist-packages (from tensorflow) (0.2.0)\n",
            "Requirement already satisfied: h5py>=2.9.0 in /usr/local/lib/python3.10/dist-packages (from tensorflow) (3.9.0)\n",
            "Requirement already satisfied: libclang>=13.0.0 in /usr/local/lib/python3.10/dist-packages (from tensorflow) (16.0.6)\n",
            "Requirement already satisfied: ml-dtypes~=0.2.0 in /usr/local/lib/python3.10/dist-packages (from tensorflow) (0.2.0)\n",
            "Requirement already satisfied: numpy<2.0.0,>=1.23.5 in /usr/local/lib/python3.10/dist-packages (from tensorflow) (1.23.5)\n",
            "Requirement already satisfied: opt-einsum>=2.3.2 in /usr/local/lib/python3.10/dist-packages (from tensorflow) (3.3.0)\n",
            "Requirement already satisfied: packaging in /usr/local/lib/python3.10/dist-packages (from tensorflow) (23.2)\n",
            "Requirement already satisfied: protobuf!=4.21.0,!=4.21.1,!=4.21.2,!=4.21.3,!=4.21.4,!=4.21.5,<5.0.0dev,>=3.20.3 in /usr/local/lib/python3.10/dist-packages (from tensorflow) (3.20.3)\n",
            "Requirement already satisfied: setuptools in /usr/local/lib/python3.10/dist-packages (from tensorflow) (67.7.2)\n",
            "Requirement already satisfied: six>=1.12.0 in /usr/local/lib/python3.10/dist-packages (from tensorflow) (1.16.0)\n",
            "Requirement already satisfied: termcolor>=1.1.0 in /usr/local/lib/python3.10/dist-packages (from tensorflow) (2.4.0)\n",
            "Requirement already satisfied: typing-extensions>=3.6.6 in /usr/local/lib/python3.10/dist-packages (from tensorflow) (4.5.0)\n",
            "Requirement already satisfied: wrapt<1.15,>=1.11.0 in /usr/local/lib/python3.10/dist-packages (from tensorflow) (1.14.1)\n",
            "Requirement already satisfied: tensorflow-io-gcs-filesystem>=0.23.1 in /usr/local/lib/python3.10/dist-packages (from tensorflow) (0.34.0)\n",
            "Requirement already satisfied: grpcio<2.0,>=1.24.3 in /usr/local/lib/python3.10/dist-packages (from tensorflow) (1.60.0)\n",
            "Requirement already satisfied: tensorboard<2.16,>=2.15 in /usr/local/lib/python3.10/dist-packages (from tensorflow) (2.15.1)\n",
            "Requirement already satisfied: tensorflow-estimator<2.16,>=2.15.0 in /usr/local/lib/python3.10/dist-packages (from tensorflow) (2.15.0)\n",
            "Requirement already satisfied: keras<2.16,>=2.15.0 in /usr/local/lib/python3.10/dist-packages (from tensorflow) (2.15.0)\n",
            "Requirement already satisfied: wheel<1.0,>=0.23.0 in /usr/local/lib/python3.10/dist-packages (from astunparse>=1.6.0->tensorflow) (0.42.0)\n",
            "Requirement already satisfied: google-auth<3,>=1.6.3 in /usr/local/lib/python3.10/dist-packages (from tensorboard<2.16,>=2.15->tensorflow) (2.17.3)\n",
            "Requirement already satisfied: google-auth-oauthlib<2,>=0.5 in /usr/local/lib/python3.10/dist-packages (from tensorboard<2.16,>=2.15->tensorflow) (1.2.0)\n",
            "Requirement already satisfied: markdown>=2.6.8 in /usr/local/lib/python3.10/dist-packages (from tensorboard<2.16,>=2.15->tensorflow) (3.5.1)\n",
            "Requirement already satisfied: requests<3,>=2.21.0 in /usr/local/lib/python3.10/dist-packages (from tensorboard<2.16,>=2.15->tensorflow) (2.31.0)\n",
            "Requirement already satisfied: tensorboard-data-server<0.8.0,>=0.7.0 in /usr/local/lib/python3.10/dist-packages (from tensorboard<2.16,>=2.15->tensorflow) (0.7.2)\n",
            "Requirement already satisfied: werkzeug>=1.0.1 in /usr/local/lib/python3.10/dist-packages (from tensorboard<2.16,>=2.15->tensorflow) (3.0.1)\n",
            "Requirement already satisfied: cachetools<6.0,>=2.0.0 in /usr/local/lib/python3.10/dist-packages (from google-auth<3,>=1.6.3->tensorboard<2.16,>=2.15->tensorflow) (5.3.2)\n",
            "Requirement already satisfied: pyasn1-modules>=0.2.1 in /usr/local/lib/python3.10/dist-packages (from google-auth<3,>=1.6.3->tensorboard<2.16,>=2.15->tensorflow) (0.3.0)\n",
            "Requirement already satisfied: rsa<5,>=3.1.4 in /usr/local/lib/python3.10/dist-packages (from google-auth<3,>=1.6.3->tensorboard<2.16,>=2.15->tensorflow) (4.9)\n",
            "Requirement already satisfied: requests-oauthlib>=0.7.0 in /usr/local/lib/python3.10/dist-packages (from google-auth-oauthlib<2,>=0.5->tensorboard<2.16,>=2.15->tensorflow) (1.3.1)\n",
            "Requirement already satisfied: charset-normalizer<4,>=2 in /usr/local/lib/python3.10/dist-packages (from requests<3,>=2.21.0->tensorboard<2.16,>=2.15->tensorflow) (3.3.2)\n",
            "Requirement already satisfied: idna<4,>=2.5 in /usr/local/lib/python3.10/dist-packages (from requests<3,>=2.21.0->tensorboard<2.16,>=2.15->tensorflow) (3.6)\n",
            "Requirement already satisfied: urllib3<3,>=1.21.1 in /usr/local/lib/python3.10/dist-packages (from requests<3,>=2.21.0->tensorboard<2.16,>=2.15->tensorflow) (2.0.7)\n",
            "Requirement already satisfied: certifi>=2017.4.17 in /usr/local/lib/python3.10/dist-packages (from requests<3,>=2.21.0->tensorboard<2.16,>=2.15->tensorflow) (2023.11.17)\n",
            "Requirement already satisfied: MarkupSafe>=2.1.1 in /usr/local/lib/python3.10/dist-packages (from werkzeug>=1.0.1->tensorboard<2.16,>=2.15->tensorflow) (2.1.3)\n",
            "Requirement already satisfied: pyasn1<0.6.0,>=0.4.6 in /usr/local/lib/python3.10/dist-packages (from pyasn1-modules>=0.2.1->google-auth<3,>=1.6.3->tensorboard<2.16,>=2.15->tensorflow) (0.5.1)\n",
            "Requirement already satisfied: oauthlib>=3.0.0 in /usr/local/lib/python3.10/dist-packages (from requests-oauthlib>=0.7.0->google-auth-oauthlib<2,>=0.5->tensorboard<2.16,>=2.15->tensorflow) (3.2.2)\n",
            "Requirement already satisfied: pandas in /usr/local/lib/python3.10/dist-packages (1.5.3)\n",
            "Requirement already satisfied: python-dateutil>=2.8.1 in /usr/local/lib/python3.10/dist-packages (from pandas) (2.8.2)\n",
            "Requirement already satisfied: pytz>=2020.1 in /usr/local/lib/python3.10/dist-packages (from pandas) (2023.3.post1)\n",
            "Requirement already satisfied: numpy>=1.21.0 in /usr/local/lib/python3.10/dist-packages (from pandas) (1.23.5)\n",
            "Requirement already satisfied: six>=1.5 in /usr/local/lib/python3.10/dist-packages (from python-dateutil>=2.8.1->pandas) (1.16.0)\n",
            "Requirement already satisfied: torch in /usr/local/lib/python3.10/dist-packages (2.1.0+cu121)\n",
            "Requirement already satisfied: filelock in /usr/local/lib/python3.10/dist-packages (from torch) (3.13.1)\n",
            "Requirement already satisfied: typing-extensions in /usr/local/lib/python3.10/dist-packages (from torch) (4.5.0)\n",
            "Requirement already satisfied: sympy in /usr/local/lib/python3.10/dist-packages (from torch) (1.12)\n",
            "Requirement already satisfied: networkx in /usr/local/lib/python3.10/dist-packages (from torch) (3.2.1)\n",
            "Requirement already satisfied: jinja2 in /usr/local/lib/python3.10/dist-packages (from torch) (3.1.2)\n",
            "Requirement already satisfied: fsspec in /usr/local/lib/python3.10/dist-packages (from torch) (2023.6.0)\n",
            "Requirement already satisfied: triton==2.1.0 in /usr/local/lib/python3.10/dist-packages (from torch) (2.1.0)\n",
            "Requirement already satisfied: MarkupSafe>=2.0 in /usr/local/lib/python3.10/dist-packages (from jinja2->torch) (2.1.3)\n",
            "Requirement already satisfied: mpmath>=0.19 in /usr/local/lib/python3.10/dist-packages (from sympy->torch) (1.3.0)\n"
          ]
        }
      ]
    },
    {
      "cell_type": "markdown",
      "source": [
        "# Loading Model for Likes Prediction"
      ],
      "metadata": {
        "id": "OjOeYPlOlItJ"
      }
    },
    {
      "cell_type": "code",
      "source": [
        "from tensorflow.keras.models import load_model\n",
        "model = load_model('/content/likes_prediction.h5')"
      ],
      "metadata": {
        "id": "Gi8SPF1SlOwv",
        "execution": {
          "iopub.status.busy": "2023-12-21T13:21:22.517952Z",
          "iopub.execute_input": "2023-12-21T13:21:22.518263Z",
          "iopub.status.idle": "2023-12-21T13:21:37.212504Z",
          "shell.execute_reply.started": "2023-12-21T13:21:22.518238Z",
          "shell.execute_reply": "2023-12-21T13:21:37.211532Z"
        },
        "trusted": true
      },
      "execution_count": null,
      "outputs": []
    },
    {
      "cell_type": "markdown",
      "source": [
        "# Text and Image Embeddings"
      ],
      "metadata": {
        "id": "7YMiSzrge4pD"
      }
    },
    {
      "cell_type": "code",
      "source": [
        "import tensorflow as tf\n",
        "import tensorflow_hub as hub\n",
        "\n",
        "def text_embedding_function(text_column):\n",
        "    embed = hub.load(\"https://tfhub.dev/google/universal-sentence-encoder/4\")\n",
        "    embeddings = embed(text_column)\n",
        "    return embeddings.numpy()"
      ],
      "metadata": {
        "id": "Z87o6sXrjTjo",
        "execution": {
          "iopub.status.busy": "2023-12-21T13:21:44.191097Z",
          "iopub.execute_input": "2023-12-21T13:21:44.191765Z",
          "iopub.status.idle": "2023-12-21T13:21:44.596395Z",
          "shell.execute_reply.started": "2023-12-21T13:21:44.191732Z",
          "shell.execute_reply": "2023-12-21T13:21:44.595444Z"
        },
        "trusted": true
      },
      "execution_count": null,
      "outputs": []
    },
    {
      "cell_type": "code",
      "source": [
        "import requests\n",
        "from io import BytesIO\n",
        "\n",
        "from tensorflow.keras.preprocessing import image\n",
        "from tensorflow.keras.applications.mobilenet_v2 import MobileNetV2, preprocess_input\n",
        "import numpy as np\n",
        "\n",
        "def image_embedding_function(image_link):\n",
        "    # Download the image from the web link\n",
        "    response = requests.get(image_link)\n",
        "    img = image.load_img(BytesIO(response.content), target_size=(224, 224))\n",
        "\n",
        "    # Preprocess the image\n",
        "    img_array = image.img_to_array(img)\n",
        "    img_array = np.expand_dims(img_array, axis=0)\n",
        "    img_array = preprocess_input(img_array)\n",
        "\n",
        "    # Load MobileNetV2 model\n",
        "    base_model = MobileNetV2(weights='imagenet', include_top=False)\n",
        "\n",
        "    # Get image features\n",
        "    img_features = base_model.predict(img_array)\n",
        "    img_features = np.mean(img_features, axis=(1, 2))  # Global average pooling\n",
        "\n",
        "    return img_features\n"
      ],
      "metadata": {
        "id": "k8zydkKejTbD",
        "execution": {
          "iopub.status.busy": "2023-12-15T15:58:49.366368Z",
          "iopub.execute_input": "2023-12-15T15:58:49.367338Z",
          "iopub.status.idle": "2023-12-15T15:58:49.376442Z",
          "shell.execute_reply.started": "2023-12-15T15:58:49.367291Z",
          "shell.execute_reply": "2023-12-15T15:58:49.375391Z"
        },
        "trusted": true
      },
      "execution_count": null,
      "outputs": []
    },
    {
      "cell_type": "code",
      "source": [
        "# text_embeddings = np.concatenate([text_embedding_function(df['date']),\n",
        "#                                   text_embedding_function(df['username']),\n",
        "#                                   text_embedding_function(df['inferred company']),\n",
        "#                                   text_embedding_function(df['content'])], axis=1)"
      ],
      "metadata": {
        "id": "_g-3CSTqjTTP",
        "execution": {
          "iopub.status.busy": "2023-12-15T15:58:55.934761Z",
          "iopub.execute_input": "2023-12-15T15:58:55.935168Z",
          "iopub.status.idle": "2023-12-15T15:59:48.645781Z",
          "shell.execute_reply.started": "2023-12-15T15:58:55.935136Z",
          "shell.execute_reply": "2023-12-15T15:59:48.644857Z"
        },
        "trusted": true,
        "colab": {
          "base_uri": "https://localhost:8080/",
          "height": 229
        },
        "outputId": "ac3a936c-d377-4720-975f-16ad156e0a44"
      },
      "execution_count": null,
      "outputs": [
        {
          "output_type": "error",
          "ename": "NameError",
          "evalue": "ignored",
          "traceback": [
            "\u001b[0;31m---------------------------------------------------------------------------\u001b[0m",
            "\u001b[0;31mNameError\u001b[0m                                 Traceback (most recent call last)",
            "\u001b[0;32m<ipython-input-5-625e1cd4281c>\u001b[0m in \u001b[0;36m<cell line: 1>\u001b[0;34m()\u001b[0m\n\u001b[0;32m----> 1\u001b[0;31m text_embeddings = np.concatenate([text_embedding_function(df['date']),\n\u001b[0m\u001b[1;32m      2\u001b[0m                                   \u001b[0mtext_embedding_function\u001b[0m\u001b[0;34m(\u001b[0m\u001b[0mdf\u001b[0m\u001b[0;34m[\u001b[0m\u001b[0;34m'username'\u001b[0m\u001b[0;34m]\u001b[0m\u001b[0;34m)\u001b[0m\u001b[0;34m,\u001b[0m\u001b[0;34m\u001b[0m\u001b[0;34m\u001b[0m\u001b[0m\n\u001b[1;32m      3\u001b[0m                                   \u001b[0mtext_embedding_function\u001b[0m\u001b[0;34m(\u001b[0m\u001b[0mdf\u001b[0m\u001b[0;34m[\u001b[0m\u001b[0;34m'inferred company'\u001b[0m\u001b[0;34m]\u001b[0m\u001b[0;34m)\u001b[0m\u001b[0;34m,\u001b[0m\u001b[0;34m\u001b[0m\u001b[0;34m\u001b[0m\u001b[0m\n\u001b[1;32m      4\u001b[0m                                   text_embedding_function(df['content'])], axis=1)\n",
            "\u001b[0;31mNameError\u001b[0m: name 'df' is not defined"
          ]
        }
      ]
    },
    {
      "cell_type": "code",
      "source": [
        "import re\n",
        "\n",
        "def extract_links(text):\n",
        "    url_pattern = r\"'(https?://\\S+)'\"\n",
        "    matches = re.findall(url_pattern, text)\n",
        "\n",
        "    return matches[0]\n",
        "\n",
        "text_with_links = \"[Video(thumbnailUrl='https://pbs.twimg.com/amplify_video_thumb/1227938886921457664/img/BLtuv_1o8Rq_Noq4.jpg', variants=[VideoVariant(contentType='video/mp4', url='https://video.twimg.com/amplify_video/1227938886921457664/vid/1280x720/SFx1sCgkIbUnZeKo.mp4?tag=13', bitrate=2176000), VideoVariant(contentType='video/mp4', url='https://video.twimg.com/amplify_video/1227938886921457664/vid/480x270/3ooUCNaXys5kdswT.mp4?tag=13', bitrate=288000), VideoVariant(contentType='video/mp4', url='https://video.twimg.com/amplify_video/1227938886921457664/vid/640x360/t7WbD3E2QlEc6jin.mp4?tag=13', bitrate=832000), VideoVariant(contentType='application/x-mpegURL', url='https://video.twimg.com/amplify_video/1227938886921457664/pl/fUfDdm_8MfySsDlF.m3u8?tag=13', bitrate=None)], duration=6.0, views=19829)]\"\n",
        "links = extract_links(text_with_links)\n",
        "\n",
        "print(links)\n"
      ],
      "metadata": {
        "colab": {
          "base_uri": "https://localhost:8080/"
        },
        "id": "4wSm2b4gdeUd",
        "outputId": "ed015c0a-746b-46ce-dde0-b9faa42094ad",
        "execution": {
          "iopub.status.busy": "2023-12-15T15:59:48.647572Z",
          "iopub.execute_input": "2023-12-15T15:59:48.647874Z",
          "iopub.status.idle": "2023-12-15T15:59:48.654371Z",
          "shell.execute_reply.started": "2023-12-15T15:59:48.647848Z",
          "shell.execute_reply": "2023-12-15T15:59:48.653396Z"
        },
        "trusted": true
      },
      "execution_count": null,
      "outputs": [
        {
          "output_type": "stream",
          "name": "stdout",
          "text": [
            "https://pbs.twimg.com/amplify_video_thumb/1227938886921457664/img/BLtuv_1o8Rq_Noq4.jpg\n"
          ]
        }
      ]
    },
    {
      "cell_type": "code",
      "source": [
        "import numpy as np"
      ],
      "metadata": {
        "execution": {
          "iopub.status.busy": "2023-12-15T15:59:48.655539Z",
          "iopub.execute_input": "2023-12-15T15:59:48.655890Z",
          "iopub.status.idle": "2023-12-15T15:59:48.668669Z",
          "shell.execute_reply.started": "2023-12-15T15:59:48.655859Z",
          "shell.execute_reply": "2023-12-15T15:59:48.667846Z"
        },
        "id": "yf_zg56gdROQ",
        "trusted": true
      },
      "execution_count": null,
      "outputs": []
    },
    {
      "cell_type": "code",
      "source": [
        "# loaded_data = np.load('/kaggle/working/image_embeddings_test.npz')\n",
        "# image_embeddings = loaded_data['embeddings']"
      ],
      "metadata": {
        "id": "5j4J3iKQdHYU",
        "execution": {
          "iopub.status.busy": "2023-12-15T16:35:31.242203Z",
          "iopub.execute_input": "2023-12-15T16:35:31.242992Z",
          "iopub.status.idle": "2023-12-15T16:35:31.267304Z",
          "shell.execute_reply.started": "2023-12-15T16:35:31.242957Z",
          "shell.execute_reply": "2023-12-15T16:35:31.266431Z"
        },
        "trusted": true,
        "colab": {
          "base_uri": "https://localhost:8080/",
          "height": 316
        },
        "outputId": "2c97a099-b22b-4e5e-a0fb-c91cdd57eb92"
      },
      "execution_count": null,
      "outputs": [
        {
          "output_type": "error",
          "ename": "FileNotFoundError",
          "evalue": "ignored",
          "traceback": [
            "\u001b[0;31m---------------------------------------------------------------------------\u001b[0m",
            "\u001b[0;31mFileNotFoundError\u001b[0m                         Traceback (most recent call last)",
            "\u001b[0;32m<ipython-input-8-3c02e8f703d9>\u001b[0m in \u001b[0;36m<cell line: 1>\u001b[0;34m()\u001b[0m\n\u001b[0;32m----> 1\u001b[0;31m \u001b[0mloaded_data\u001b[0m \u001b[0;34m=\u001b[0m \u001b[0mnp\u001b[0m\u001b[0;34m.\u001b[0m\u001b[0mload\u001b[0m\u001b[0;34m(\u001b[0m\u001b[0;34m'/kaggle/working/image_embeddings_test.npz'\u001b[0m\u001b[0;34m)\u001b[0m\u001b[0;34m\u001b[0m\u001b[0;34m\u001b[0m\u001b[0m\n\u001b[0m\u001b[1;32m      2\u001b[0m \u001b[0mimage_embeddings\u001b[0m \u001b[0;34m=\u001b[0m \u001b[0mloaded_data\u001b[0m\u001b[0;34m[\u001b[0m\u001b[0;34m'embeddings'\u001b[0m\u001b[0;34m]\u001b[0m\u001b[0;34m\u001b[0m\u001b[0;34m\u001b[0m\u001b[0m\n",
            "\u001b[0;32m/usr/local/lib/python3.10/dist-packages/numpy/lib/npyio.py\u001b[0m in \u001b[0;36mload\u001b[0;34m(file, mmap_mode, allow_pickle, fix_imports, encoding, max_header_size)\u001b[0m\n\u001b[1;32m    403\u001b[0m             \u001b[0mown_fid\u001b[0m \u001b[0;34m=\u001b[0m \u001b[0;32mFalse\u001b[0m\u001b[0;34m\u001b[0m\u001b[0;34m\u001b[0m\u001b[0m\n\u001b[1;32m    404\u001b[0m         \u001b[0;32melse\u001b[0m\u001b[0;34m:\u001b[0m\u001b[0;34m\u001b[0m\u001b[0;34m\u001b[0m\u001b[0m\n\u001b[0;32m--> 405\u001b[0;31m             \u001b[0mfid\u001b[0m \u001b[0;34m=\u001b[0m \u001b[0mstack\u001b[0m\u001b[0;34m.\u001b[0m\u001b[0menter_context\u001b[0m\u001b[0;34m(\u001b[0m\u001b[0mopen\u001b[0m\u001b[0;34m(\u001b[0m\u001b[0mos_fspath\u001b[0m\u001b[0;34m(\u001b[0m\u001b[0mfile\u001b[0m\u001b[0;34m)\u001b[0m\u001b[0;34m,\u001b[0m \u001b[0;34m\"rb\"\u001b[0m\u001b[0;34m)\u001b[0m\u001b[0;34m)\u001b[0m\u001b[0;34m\u001b[0m\u001b[0;34m\u001b[0m\u001b[0m\n\u001b[0m\u001b[1;32m    406\u001b[0m             \u001b[0mown_fid\u001b[0m \u001b[0;34m=\u001b[0m \u001b[0;32mTrue\u001b[0m\u001b[0;34m\u001b[0m\u001b[0;34m\u001b[0m\u001b[0m\n\u001b[1;32m    407\u001b[0m \u001b[0;34m\u001b[0m\u001b[0m\n",
            "\u001b[0;31mFileNotFoundError\u001b[0m: [Errno 2] No such file or directory: '/kaggle/working/image_embeddings_test.npz'"
          ]
        }
      ]
    },
    {
      "cell_type": "code",
      "source": [
        "reshaped_image_embedding=[]\n",
        "reshaped_text_embedding=[]"
      ],
      "metadata": {
        "execution": {
          "iopub.status.busy": "2023-12-15T16:49:52.057348Z",
          "iopub.execute_input": "2023-12-15T16:49:52.058185Z",
          "iopub.status.idle": "2023-12-15T16:49:52.062293Z",
          "shell.execute_reply.started": "2023-12-15T16:49:52.058152Z",
          "shell.execute_reply": "2023-12-15T16:49:52.061263Z"
        },
        "id": "-N8j52KhdROQ",
        "trusted": true
      },
      "execution_count": null,
      "outputs": []
    },
    {
      "cell_type": "code",
      "source": [
        "def input_format(text_embeddings):\n",
        "    for i in range(10000):\n",
        "        val=0\n",
        "        for j in text_embeddings[i]:\n",
        "            val+=j\n",
        "        reshaped_text_embedding.append(val)\n",
        "\n",
        "        reshaped_text_embedding=np.array(reshaped_text_embedding)\n",
        "        return reshaped_text_embedding"
      ],
      "metadata": {
        "execution": {
          "iopub.status.busy": "2023-12-15T17:02:21.863068Z",
          "iopub.execute_input": "2023-12-15T17:02:21.863797Z",
          "iopub.status.idle": "2023-12-15T17:02:21.869329Z",
          "shell.execute_reply.started": "2023-12-15T17:02:21.863763Z",
          "shell.execute_reply": "2023-12-15T17:02:21.868315Z"
        },
        "id": "XHrlBq-2dROQ",
        "trusted": true
      },
      "execution_count": null,
      "outputs": []
    },
    {
      "cell_type": "code",
      "source": [
        "# for i in range(3105):\n",
        "#     val=0\n",
        "#     for j in image_embeddings[i][0]:\n",
        "#         val+=j\n",
        "#     reshaped_image_embedding.append(val)"
      ],
      "metadata": {
        "execution": {
          "iopub.status.busy": "2023-12-15T17:06:48.083933Z",
          "iopub.execute_input": "2023-12-15T17:06:48.084667Z",
          "iopub.status.idle": "2023-12-15T17:06:49.840263Z",
          "shell.execute_reply.started": "2023-12-15T17:06:48.084637Z",
          "shell.execute_reply": "2023-12-15T17:06:49.839445Z"
        },
        "id": "_zUfyKUJdROQ",
        "trusted": true,
        "colab": {
          "base_uri": "https://localhost:8080/",
          "height": 247
        },
        "outputId": "47dd324c-293c-48e8-bb1b-6c4fa54889ee"
      },
      "execution_count": null,
      "outputs": [
        {
          "output_type": "error",
          "ename": "NameError",
          "evalue": "ignored",
          "traceback": [
            "\u001b[0;31m---------------------------------------------------------------------------\u001b[0m",
            "\u001b[0;31mNameError\u001b[0m                                 Traceback (most recent call last)",
            "\u001b[0;32m<ipython-input-11-0268915c1ce9>\u001b[0m in \u001b[0;36m<cell line: 1>\u001b[0;34m()\u001b[0m\n\u001b[1;32m      1\u001b[0m \u001b[0;32mfor\u001b[0m \u001b[0mi\u001b[0m \u001b[0;32min\u001b[0m \u001b[0mrange\u001b[0m\u001b[0;34m(\u001b[0m\u001b[0;36m3105\u001b[0m\u001b[0;34m)\u001b[0m\u001b[0;34m:\u001b[0m\u001b[0;34m\u001b[0m\u001b[0;34m\u001b[0m\u001b[0m\n\u001b[1;32m      2\u001b[0m     \u001b[0mval\u001b[0m\u001b[0;34m=\u001b[0m\u001b[0;36m0\u001b[0m\u001b[0;34m\u001b[0m\u001b[0;34m\u001b[0m\u001b[0m\n\u001b[0;32m----> 3\u001b[0;31m     \u001b[0;32mfor\u001b[0m \u001b[0mj\u001b[0m \u001b[0;32min\u001b[0m \u001b[0mimage_embeddings\u001b[0m\u001b[0;34m[\u001b[0m\u001b[0mi\u001b[0m\u001b[0;34m]\u001b[0m\u001b[0;34m[\u001b[0m\u001b[0;36m0\u001b[0m\u001b[0;34m]\u001b[0m\u001b[0;34m:\u001b[0m\u001b[0;34m\u001b[0m\u001b[0;34m\u001b[0m\u001b[0m\n\u001b[0m\u001b[1;32m      4\u001b[0m         \u001b[0mval\u001b[0m\u001b[0;34m+=\u001b[0m\u001b[0mj\u001b[0m\u001b[0;34m\u001b[0m\u001b[0;34m\u001b[0m\u001b[0m\n\u001b[1;32m      5\u001b[0m     \u001b[0mreshaped_image_embedding\u001b[0m\u001b[0;34m.\u001b[0m\u001b[0mappend\u001b[0m\u001b[0;34m(\u001b[0m\u001b[0mval\u001b[0m\u001b[0;34m)\u001b[0m\u001b[0;34m\u001b[0m\u001b[0;34m\u001b[0m\u001b[0m\n",
            "\u001b[0;31mNameError\u001b[0m: name 'image_embeddings' is not defined"
          ]
        }
      ]
    },
    {
      "cell_type": "code",
      "source": [
        "#reshaped_image_embedding=np.array(reshaped_image_embedding)\n",
        "reshaped_text_embedding=np.array(reshaped_text_embedding)"
      ],
      "metadata": {
        "execution": {
          "iopub.status.busy": "2023-12-15T16:50:10.916554Z",
          "iopub.execute_input": "2023-12-15T16:50:10.917380Z",
          "iopub.status.idle": "2023-12-15T16:50:10.924906Z",
          "shell.execute_reply.started": "2023-12-15T16:50:10.917338Z",
          "shell.execute_reply": "2023-12-15T16:50:10.923954Z"
        },
        "id": "e7z3cb_0dROQ",
        "trusted": true
      },
      "execution_count": null,
      "outputs": []
    },
    {
      "cell_type": "code",
      "source": [
        "#reshaped_image_embedding=reshaped_image_embedding.reshape((10000,1))\n",
        "reshaped_text_embedding=reshaped_text_embedding.reshape((10000,1))"
      ],
      "metadata": {
        "execution": {
          "iopub.status.busy": "2023-12-15T16:50:30.546361Z",
          "iopub.execute_input": "2023-12-15T16:50:30.547029Z",
          "iopub.status.idle": "2023-12-15T16:50:30.551434Z",
          "shell.execute_reply.started": "2023-12-15T16:50:30.546995Z",
          "shell.execute_reply": "2023-12-15T16:50:30.550550Z"
        },
        "id": "fXX6h5g0dROQ",
        "trusted": true,
        "colab": {
          "base_uri": "https://localhost:8080/",
          "height": 195
        },
        "outputId": "42b93d8b-6290-43f2-a64e-9eebf10c49ab"
      },
      "execution_count": null,
      "outputs": [
        {
          "output_type": "error",
          "ename": "ValueError",
          "evalue": "ignored",
          "traceback": [
            "\u001b[0;31m---------------------------------------------------------------------------\u001b[0m",
            "\u001b[0;31mValueError\u001b[0m                                Traceback (most recent call last)",
            "\u001b[0;32m<ipython-input-13-c278d0f4ada3>\u001b[0m in \u001b[0;36m<cell line: 2>\u001b[0;34m()\u001b[0m\n\u001b[1;32m      1\u001b[0m \u001b[0;31m#reshaped_image_embedding=reshaped_image_embedding.reshape((10000,1))\u001b[0m\u001b[0;34m\u001b[0m\u001b[0;34m\u001b[0m\u001b[0m\n\u001b[0;32m----> 2\u001b[0;31m \u001b[0mreshaped_text_embedding\u001b[0m\u001b[0;34m=\u001b[0m\u001b[0mreshaped_text_embedding\u001b[0m\u001b[0;34m.\u001b[0m\u001b[0mreshape\u001b[0m\u001b[0;34m(\u001b[0m\u001b[0;34m(\u001b[0m\u001b[0;36m10000\u001b[0m\u001b[0;34m,\u001b[0m\u001b[0;36m1\u001b[0m\u001b[0;34m)\u001b[0m\u001b[0;34m)\u001b[0m\u001b[0;34m\u001b[0m\u001b[0;34m\u001b[0m\u001b[0m\n\u001b[0m",
            "\u001b[0;31mValueError\u001b[0m: cannot reshape array of size 0 into shape (10000,1)"
          ]
        }
      ]
    },
    {
      "cell_type": "code",
      "source": [
        "reshaped_image_embedding.shape"
      ],
      "metadata": {
        "execution": {
          "iopub.status.busy": "2023-12-15T16:18:18.597729Z",
          "iopub.execute_input": "2023-12-15T16:18:18.598656Z",
          "iopub.status.idle": "2023-12-15T16:18:18.605266Z",
          "shell.execute_reply.started": "2023-12-15T16:18:18.598615Z",
          "shell.execute_reply": "2023-12-15T16:18:18.604114Z"
        },
        "id": "LFX_8JIldROQ",
        "outputId": "76b4d74a-40bd-4020-a703-cf674852a24d",
        "trusted": true,
        "colab": {
          "base_uri": "https://localhost:8080/",
          "height": 177
        }
      },
      "execution_count": null,
      "outputs": [
        {
          "output_type": "error",
          "ename": "AttributeError",
          "evalue": "ignored",
          "traceback": [
            "\u001b[0;31m---------------------------------------------------------------------------\u001b[0m",
            "\u001b[0;31mAttributeError\u001b[0m                            Traceback (most recent call last)",
            "\u001b[0;32m<ipython-input-14-c64b3cad94e2>\u001b[0m in \u001b[0;36m<cell line: 1>\u001b[0;34m()\u001b[0m\n\u001b[0;32m----> 1\u001b[0;31m \u001b[0mreshaped_image_embedding\u001b[0m\u001b[0;34m.\u001b[0m\u001b[0mshape\u001b[0m\u001b[0;34m\u001b[0m\u001b[0;34m\u001b[0m\u001b[0m\n\u001b[0m",
            "\u001b[0;31mAttributeError\u001b[0m: 'list' object has no attribute 'shape'"
          ]
        }
      ]
    },
    {
      "cell_type": "code",
      "source": [
        "combined_embeddings = reshaped_image_embedding+reshaped_text_embedding"
      ],
      "metadata": {
        "id": "D-6vrmzlevCl",
        "execution": {
          "iopub.status.busy": "2023-12-15T16:18:23.313296Z",
          "iopub.execute_input": "2023-12-15T16:18:23.314087Z",
          "iopub.status.idle": "2023-12-15T16:18:23.318473Z",
          "shell.execute_reply.started": "2023-12-15T16:18:23.314050Z",
          "shell.execute_reply": "2023-12-15T16:18:23.317292Z"
        },
        "trusted": true
      },
      "execution_count": null,
      "outputs": []
    },
    {
      "cell_type": "code",
      "source": [
        "combined_embeddings.shape"
      ],
      "metadata": {
        "execution": {
          "iopub.status.busy": "2023-12-15T16:18:27.267859Z",
          "iopub.execute_input": "2023-12-15T16:18:27.268635Z",
          "iopub.status.idle": "2023-12-15T16:18:27.274911Z",
          "shell.execute_reply.started": "2023-12-15T16:18:27.268602Z",
          "shell.execute_reply": "2023-12-15T16:18:27.273951Z"
        },
        "id": "hZfsZvWedROR",
        "outputId": "eb21a89f-3688-40db-c61d-30c6af52a59a",
        "trusted": true,
        "colab": {
          "base_uri": "https://localhost:8080/"
        }
      },
      "execution_count": null,
      "outputs": [
        {
          "output_type": "execute_result",
          "data": {
            "text/plain": [
              "(0,)"
            ]
          },
          "metadata": {},
          "execution_count": 16
        }
      ]
    },
    {
      "cell_type": "code",
      "source": [
        "import numpy as np\n",
        "output_file = '/kaggle/working/image_embeddings_cluster_18.npz'\n",
        "np.savez(output_file, embeddings=image_embeddings)\n"
      ],
      "metadata": {
        "execution": {
          "iopub.status.busy": "2023-12-15T16:18:52.357269Z",
          "iopub.execute_input": "2023-12-15T16:18:52.358045Z",
          "iopub.status.idle": "2023-12-15T16:18:52.389615Z",
          "shell.execute_reply.started": "2023-12-15T16:18:52.358010Z",
          "shell.execute_reply": "2023-12-15T16:18:52.388628Z"
        },
        "id": "olYJYiUidROR",
        "trusted": true,
        "colab": {
          "base_uri": "https://localhost:8080/",
          "height": 212
        },
        "outputId": "2de47c92-cec4-4ae4-883d-c438e94edf51"
      },
      "execution_count": null,
      "outputs": [
        {
          "output_type": "error",
          "ename": "NameError",
          "evalue": "ignored",
          "traceback": [
            "\u001b[0;31m---------------------------------------------------------------------------\u001b[0m",
            "\u001b[0;31mNameError\u001b[0m                                 Traceback (most recent call last)",
            "\u001b[0;32m<ipython-input-17-4871ad2fd001>\u001b[0m in \u001b[0;36m<cell line: 3>\u001b[0;34m()\u001b[0m\n\u001b[1;32m      1\u001b[0m \u001b[0;32mimport\u001b[0m \u001b[0mnumpy\u001b[0m \u001b[0;32mas\u001b[0m \u001b[0mnp\u001b[0m\u001b[0;34m\u001b[0m\u001b[0;34m\u001b[0m\u001b[0m\n\u001b[1;32m      2\u001b[0m \u001b[0moutput_file\u001b[0m \u001b[0;34m=\u001b[0m \u001b[0;34m'/kaggle/working/image_embeddings_cluster_18.npz'\u001b[0m\u001b[0;34m\u001b[0m\u001b[0;34m\u001b[0m\u001b[0m\n\u001b[0;32m----> 3\u001b[0;31m \u001b[0mnp\u001b[0m\u001b[0;34m.\u001b[0m\u001b[0msavez\u001b[0m\u001b[0;34m(\u001b[0m\u001b[0moutput_file\u001b[0m\u001b[0;34m,\u001b[0m \u001b[0membeddings\u001b[0m\u001b[0;34m=\u001b[0m\u001b[0mimage_embeddings\u001b[0m\u001b[0;34m)\u001b[0m\u001b[0;34m\u001b[0m\u001b[0;34m\u001b[0m\u001b[0m\n\u001b[0m",
            "\u001b[0;31mNameError\u001b[0m: name 'image_embeddings' is not defined"
          ]
        }
      ]
    },
    {
      "cell_type": "markdown",
      "source": [
        "# Predicting likes for test dataset"
      ],
      "metadata": {
        "id": "ioQ4lQwkfE1Y"
      }
    },
    {
      "cell_type": "code",
      "source": [
        "from google.colab import drive\n",
        "drive.mount('/content/drive')"
      ],
      "metadata": {
        "colab": {
          "base_uri": "https://localhost:8080/"
        },
        "id": "ov93KyuKGAkc",
        "outputId": "9516498a-3ec3-4746-8bfa-60a2aecfb474"
      },
      "execution_count": null,
      "outputs": [
        {
          "output_type": "stream",
          "name": "stdout",
          "text": [
            "Mounted at /content/drive\n"
          ]
        }
      ]
    },
    {
      "cell_type": "code",
      "source": [
        "!unzip '/content/drive/MyDrive/Adobe_Team99.zip'"
      ],
      "metadata": {
        "colab": {
          "base_uri": "https://localhost:8080/"
        },
        "id": "rSHoLpAkGGzB",
        "outputId": "c5e71b92-41b1-4cc7-b1d7-5b246934c12c"
      },
      "execution_count": null,
      "outputs": [
        {
          "output_type": "stream",
          "name": "stdout",
          "text": [
            "Archive:  /content/drive/MyDrive/Adobe_Team99.zip\n",
            "   creating: Adobe_Team99/\n",
            "  inflating: Adobe_Team99/.DS_Store  \n",
            "  inflating: __MACOSX/Adobe_Team99/._.DS_Store  \n",
            "  inflating: Adobe_Team99/github_link.txt  \n",
            "  inflating: __MACOSX/Adobe_Team99/._github_link.txt  \n",
            "   creating: Adobe_Team99/results/\n",
            "  inflating: Adobe_Team99/report.pdf  \n",
            "  inflating: __MACOSX/Adobe_Team99/._report.pdf  \n",
            "  inflating: Adobe_Team99/results/content_simulation_test_time.xlsx  \n",
            "  inflating: __MACOSX/Adobe_Team99/results/._content_simulation_test_time.xlsx  \n",
            "  inflating: Adobe_Team99/results/behaviour_simulation_test_company_pre.xlsx  \n",
            "  inflating: __MACOSX/Adobe_Team99/results/._behaviour_simulation_test_company_pre.xlsx  \n",
            "  inflating: Adobe_Team99/results/.DS_Store  \n",
            "  inflating: __MACOSX/Adobe_Team99/results/._.DS_Store  \n",
            "  inflating: Adobe_Team99/results/behaviour_simulation_test_time_predictions.xlsx  \n",
            "  inflating: __MACOSX/Adobe_Team99/results/._behaviour_simulation_test_time_predictions.xlsx  \n",
            "  inflating: Adobe_Team99/results/content_simulation_test_company.numbers  \n",
            "  inflating: __MACOSX/Adobe_Team99/results/._content_simulation_test_company.numbers  \n"
          ]
        }
      ]
    },
    {
      "cell_type": "code",
      "source": [
        "import pandas as pd\n",
        "df = pd.read_excel('/content/demo_tests.xlsx')\n",
        "df.to_csv('demo.csv', index=False)\n",
        "test_data=pd.read_csv('demo.csv')\n",
        "\n",
        "test_df = pd.DataFrame(test_data)\n",
        "\n",
        "# test_df = pd.DataFrame()"
      ],
      "metadata": {
        "id": "DM_Jtty0dROS",
        "execution": {
          "iopub.status.busy": "2023-12-21T13:22:22.600292Z",
          "iopub.execute_input": "2023-12-21T13:22:22.600682Z",
          "iopub.status.idle": "2023-12-21T13:22:25.376091Z",
          "shell.execute_reply.started": "2023-12-21T13:22:22.600651Z",
          "shell.execute_reply": "2023-12-21T13:22:25.375279Z"
        },
        "trusted": true
      },
      "execution_count": null,
      "outputs": []
    },
    {
      "cell_type": "code",
      "source": [],
      "metadata": {
        "id": "fRxjp_jTEXDR"
      },
      "execution_count": null,
      "outputs": []
    },
    {
      "cell_type": "code",
      "source": [
        "test_df"
      ],
      "metadata": {
        "id": "DGjimTtGdROS",
        "outputId": "74d5dde0-41dd-4942-bbda-ccce6b0a48d3",
        "execution": {
          "iopub.status.busy": "2023-12-21T13:22:32.727694Z",
          "iopub.execute_input": "2023-12-21T13:22:32.728336Z",
          "iopub.status.idle": "2023-12-21T13:22:32.749620Z",
          "shell.execute_reply.started": "2023-12-21T13:22:32.728302Z",
          "shell.execute_reply": "2023-12-21T13:22:32.748568Z"
        },
        "trusted": true,
        "colab": {
          "base_uri": "https://localhost:8080/",
          "height": 452
        }
      },
      "execution_count": null,
      "outputs": [
        {
          "output_type": "execute_result",
          "data": {
            "text/plain": [
              "                    id                       date  likes  \\\n",
              "0  1319392340545576960  2020-10-22 21:37:01+00:00    633   \n",
              "1  1187309430963965952  2019-10-24 10:06:42+00:00   1960   \n",
              "2  1080121257331286016  2019-01-01 15:19:10+00:00    728   \n",
              "3  1320365197194833920  2020-10-25 14:02:48+00:00   1428   \n",
              "4  1276589528392876032  2020-06-26 18:53:56+00:00    342   \n",
              "\n",
              "                                             content         username  \\\n",
              "0  Seat dreams are made of this! 💺 We believe it'...        AlaskaAir   \n",
              "1  Get ready to #UpgradeYourView to a whole new l...      NokiaMobile   \n",
              "2  A behind-the-scenes look at @NickJonas’ weddin...      RalphLauren   \n",
              "3  ‘Tis the season for festive looks! Check out a...  WaltDisneyWorld   \n",
              "4  Ladies and gentlemen, here comes the first #Fo...    RenaultSeries   \n",
              "\n",
              "                                               media   inferred company  \\\n",
              "0  [Photo(previewUrl='https://pbs.twimg.com/media...    alaska airlines   \n",
              "1  [Photo(previewUrl='https://pbs.twimg.com/media...              nokia   \n",
              "2  [Photo(previewUrl='https://pbs.twimg.com/media...       ralph lauren   \n",
              "3  [Photo(previewUrl='https://pbs.twimg.com/media...  walt disney world   \n",
              "4  [Photo(previewUrl='https://pbs.twimg.com/media...            renault   \n",
              "\n",
              "                                  media_keys  media_keys_len kpi_label  \n",
              "0        AlaskaAir_1319392340545576960_2.jpg               2      high  \n",
              "1      NokiaMobile_1187309430963965952_5.jpg               8      high  \n",
              "2      RalphLauren_1080121257331286016_4.jpg               4      high  \n",
              "3  WaltDisneyWorld_1320365197194833920_3.jpg               6      high  \n",
              "4    RenaultSeries_1276589528392876032_1.jpg               2      high  "
            ],
            "text/html": [
              "\n",
              "  <div id=\"df-c6389302-03a2-4767-82c2-7098899ef89b\" class=\"colab-df-container\">\n",
              "    <div>\n",
              "<style scoped>\n",
              "    .dataframe tbody tr th:only-of-type {\n",
              "        vertical-align: middle;\n",
              "    }\n",
              "\n",
              "    .dataframe tbody tr th {\n",
              "        vertical-align: top;\n",
              "    }\n",
              "\n",
              "    .dataframe thead th {\n",
              "        text-align: right;\n",
              "    }\n",
              "</style>\n",
              "<table border=\"1\" class=\"dataframe\">\n",
              "  <thead>\n",
              "    <tr style=\"text-align: right;\">\n",
              "      <th></th>\n",
              "      <th>id</th>\n",
              "      <th>date</th>\n",
              "      <th>likes</th>\n",
              "      <th>content</th>\n",
              "      <th>username</th>\n",
              "      <th>media</th>\n",
              "      <th>inferred company</th>\n",
              "      <th>media_keys</th>\n",
              "      <th>media_keys_len</th>\n",
              "      <th>kpi_label</th>\n",
              "    </tr>\n",
              "  </thead>\n",
              "  <tbody>\n",
              "    <tr>\n",
              "      <th>0</th>\n",
              "      <td>1319392340545576960</td>\n",
              "      <td>2020-10-22 21:37:01+00:00</td>\n",
              "      <td>633</td>\n",
              "      <td>Seat dreams are made of this! 💺 We believe it'...</td>\n",
              "      <td>AlaskaAir</td>\n",
              "      <td>[Photo(previewUrl='https://pbs.twimg.com/media...</td>\n",
              "      <td>alaska airlines</td>\n",
              "      <td>AlaskaAir_1319392340545576960_2.jpg</td>\n",
              "      <td>2</td>\n",
              "      <td>high</td>\n",
              "    </tr>\n",
              "    <tr>\n",
              "      <th>1</th>\n",
              "      <td>1187309430963965952</td>\n",
              "      <td>2019-10-24 10:06:42+00:00</td>\n",
              "      <td>1960</td>\n",
              "      <td>Get ready to #UpgradeYourView to a whole new l...</td>\n",
              "      <td>NokiaMobile</td>\n",
              "      <td>[Photo(previewUrl='https://pbs.twimg.com/media...</td>\n",
              "      <td>nokia</td>\n",
              "      <td>NokiaMobile_1187309430963965952_5.jpg</td>\n",
              "      <td>8</td>\n",
              "      <td>high</td>\n",
              "    </tr>\n",
              "    <tr>\n",
              "      <th>2</th>\n",
              "      <td>1080121257331286016</td>\n",
              "      <td>2019-01-01 15:19:10+00:00</td>\n",
              "      <td>728</td>\n",
              "      <td>A behind-the-scenes look at @NickJonas’ weddin...</td>\n",
              "      <td>RalphLauren</td>\n",
              "      <td>[Photo(previewUrl='https://pbs.twimg.com/media...</td>\n",
              "      <td>ralph lauren</td>\n",
              "      <td>RalphLauren_1080121257331286016_4.jpg</td>\n",
              "      <td>4</td>\n",
              "      <td>high</td>\n",
              "    </tr>\n",
              "    <tr>\n",
              "      <th>3</th>\n",
              "      <td>1320365197194833920</td>\n",
              "      <td>2020-10-25 14:02:48+00:00</td>\n",
              "      <td>1428</td>\n",
              "      <td>‘Tis the season for festive looks! Check out a...</td>\n",
              "      <td>WaltDisneyWorld</td>\n",
              "      <td>[Photo(previewUrl='https://pbs.twimg.com/media...</td>\n",
              "      <td>walt disney world</td>\n",
              "      <td>WaltDisneyWorld_1320365197194833920_3.jpg</td>\n",
              "      <td>6</td>\n",
              "      <td>high</td>\n",
              "    </tr>\n",
              "    <tr>\n",
              "      <th>4</th>\n",
              "      <td>1276589528392876032</td>\n",
              "      <td>2020-06-26 18:53:56+00:00</td>\n",
              "      <td>342</td>\n",
              "      <td>Ladies and gentlemen, here comes the first #Fo...</td>\n",
              "      <td>RenaultSeries</td>\n",
              "      <td>[Photo(previewUrl='https://pbs.twimg.com/media...</td>\n",
              "      <td>renault</td>\n",
              "      <td>RenaultSeries_1276589528392876032_1.jpg</td>\n",
              "      <td>2</td>\n",
              "      <td>high</td>\n",
              "    </tr>\n",
              "  </tbody>\n",
              "</table>\n",
              "</div>\n",
              "    <div class=\"colab-df-buttons\">\n",
              "\n",
              "  <div class=\"colab-df-container\">\n",
              "    <button class=\"colab-df-convert\" onclick=\"convertToInteractive('df-c6389302-03a2-4767-82c2-7098899ef89b')\"\n",
              "            title=\"Convert this dataframe to an interactive table.\"\n",
              "            style=\"display:none;\">\n",
              "\n",
              "  <svg xmlns=\"http://www.w3.org/2000/svg\" height=\"24px\" viewBox=\"0 -960 960 960\">\n",
              "    <path d=\"M120-120v-720h720v720H120Zm60-500h600v-160H180v160Zm220 220h160v-160H400v160Zm0 220h160v-160H400v160ZM180-400h160v-160H180v160Zm440 0h160v-160H620v160ZM180-180h160v-160H180v160Zm440 0h160v-160H620v160Z\"/>\n",
              "  </svg>\n",
              "    </button>\n",
              "\n",
              "  <style>\n",
              "    .colab-df-container {\n",
              "      display:flex;\n",
              "      gap: 12px;\n",
              "    }\n",
              "\n",
              "    .colab-df-convert {\n",
              "      background-color: #E8F0FE;\n",
              "      border: none;\n",
              "      border-radius: 50%;\n",
              "      cursor: pointer;\n",
              "      display: none;\n",
              "      fill: #1967D2;\n",
              "      height: 32px;\n",
              "      padding: 0 0 0 0;\n",
              "      width: 32px;\n",
              "    }\n",
              "\n",
              "    .colab-df-convert:hover {\n",
              "      background-color: #E2EBFA;\n",
              "      box-shadow: 0px 1px 2px rgba(60, 64, 67, 0.3), 0px 1px 3px 1px rgba(60, 64, 67, 0.15);\n",
              "      fill: #174EA6;\n",
              "    }\n",
              "\n",
              "    .colab-df-buttons div {\n",
              "      margin-bottom: 4px;\n",
              "    }\n",
              "\n",
              "    [theme=dark] .colab-df-convert {\n",
              "      background-color: #3B4455;\n",
              "      fill: #D2E3FC;\n",
              "    }\n",
              "\n",
              "    [theme=dark] .colab-df-convert:hover {\n",
              "      background-color: #434B5C;\n",
              "      box-shadow: 0px 1px 3px 1px rgba(0, 0, 0, 0.15);\n",
              "      filter: drop-shadow(0px 1px 2px rgba(0, 0, 0, 0.3));\n",
              "      fill: #FFFFFF;\n",
              "    }\n",
              "  </style>\n",
              "\n",
              "    <script>\n",
              "      const buttonEl =\n",
              "        document.querySelector('#df-c6389302-03a2-4767-82c2-7098899ef89b button.colab-df-convert');\n",
              "      buttonEl.style.display =\n",
              "        google.colab.kernel.accessAllowed ? 'block' : 'none';\n",
              "\n",
              "      async function convertToInteractive(key) {\n",
              "        const element = document.querySelector('#df-c6389302-03a2-4767-82c2-7098899ef89b');\n",
              "        const dataTable =\n",
              "          await google.colab.kernel.invokeFunction('convertToInteractive',\n",
              "                                                    [key], {});\n",
              "        if (!dataTable) return;\n",
              "\n",
              "        const docLinkHtml = 'Like what you see? Visit the ' +\n",
              "          '<a target=\"_blank\" href=https://colab.research.google.com/notebooks/data_table.ipynb>data table notebook</a>'\n",
              "          + ' to learn more about interactive tables.';\n",
              "        element.innerHTML = '';\n",
              "        dataTable['output_type'] = 'display_data';\n",
              "        await google.colab.output.renderOutput(dataTable, element);\n",
              "        const docLink = document.createElement('div');\n",
              "        docLink.innerHTML = docLinkHtml;\n",
              "        element.appendChild(docLink);\n",
              "      }\n",
              "    </script>\n",
              "  </div>\n",
              "\n",
              "\n",
              "<div id=\"df-1e6e3c06-1479-4ccd-b063-cb37ae181c77\">\n",
              "  <button class=\"colab-df-quickchart\" onclick=\"quickchart('df-1e6e3c06-1479-4ccd-b063-cb37ae181c77')\"\n",
              "            title=\"Suggest charts\"\n",
              "            style=\"display:none;\">\n",
              "\n",
              "<svg xmlns=\"http://www.w3.org/2000/svg\" height=\"24px\"viewBox=\"0 0 24 24\"\n",
              "     width=\"24px\">\n",
              "    <g>\n",
              "        <path d=\"M19 3H5c-1.1 0-2 .9-2 2v14c0 1.1.9 2 2 2h14c1.1 0 2-.9 2-2V5c0-1.1-.9-2-2-2zM9 17H7v-7h2v7zm4 0h-2V7h2v10zm4 0h-2v-4h2v4z\"/>\n",
              "    </g>\n",
              "</svg>\n",
              "  </button>\n",
              "\n",
              "<style>\n",
              "  .colab-df-quickchart {\n",
              "      --bg-color: #E8F0FE;\n",
              "      --fill-color: #1967D2;\n",
              "      --hover-bg-color: #E2EBFA;\n",
              "      --hover-fill-color: #174EA6;\n",
              "      --disabled-fill-color: #AAA;\n",
              "      --disabled-bg-color: #DDD;\n",
              "  }\n",
              "\n",
              "  [theme=dark] .colab-df-quickchart {\n",
              "      --bg-color: #3B4455;\n",
              "      --fill-color: #D2E3FC;\n",
              "      --hover-bg-color: #434B5C;\n",
              "      --hover-fill-color: #FFFFFF;\n",
              "      --disabled-bg-color: #3B4455;\n",
              "      --disabled-fill-color: #666;\n",
              "  }\n",
              "\n",
              "  .colab-df-quickchart {\n",
              "    background-color: var(--bg-color);\n",
              "    border: none;\n",
              "    border-radius: 50%;\n",
              "    cursor: pointer;\n",
              "    display: none;\n",
              "    fill: var(--fill-color);\n",
              "    height: 32px;\n",
              "    padding: 0;\n",
              "    width: 32px;\n",
              "  }\n",
              "\n",
              "  .colab-df-quickchart:hover {\n",
              "    background-color: var(--hover-bg-color);\n",
              "    box-shadow: 0 1px 2px rgba(60, 64, 67, 0.3), 0 1px 3px 1px rgba(60, 64, 67, 0.15);\n",
              "    fill: var(--button-hover-fill-color);\n",
              "  }\n",
              "\n",
              "  .colab-df-quickchart-complete:disabled,\n",
              "  .colab-df-quickchart-complete:disabled:hover {\n",
              "    background-color: var(--disabled-bg-color);\n",
              "    fill: var(--disabled-fill-color);\n",
              "    box-shadow: none;\n",
              "  }\n",
              "\n",
              "  .colab-df-spinner {\n",
              "    border: 2px solid var(--fill-color);\n",
              "    border-color: transparent;\n",
              "    border-bottom-color: var(--fill-color);\n",
              "    animation:\n",
              "      spin 1s steps(1) infinite;\n",
              "  }\n",
              "\n",
              "  @keyframes spin {\n",
              "    0% {\n",
              "      border-color: transparent;\n",
              "      border-bottom-color: var(--fill-color);\n",
              "      border-left-color: var(--fill-color);\n",
              "    }\n",
              "    20% {\n",
              "      border-color: transparent;\n",
              "      border-left-color: var(--fill-color);\n",
              "      border-top-color: var(--fill-color);\n",
              "    }\n",
              "    30% {\n",
              "      border-color: transparent;\n",
              "      border-left-color: var(--fill-color);\n",
              "      border-top-color: var(--fill-color);\n",
              "      border-right-color: var(--fill-color);\n",
              "    }\n",
              "    40% {\n",
              "      border-color: transparent;\n",
              "      border-right-color: var(--fill-color);\n",
              "      border-top-color: var(--fill-color);\n",
              "    }\n",
              "    60% {\n",
              "      border-color: transparent;\n",
              "      border-right-color: var(--fill-color);\n",
              "    }\n",
              "    80% {\n",
              "      border-color: transparent;\n",
              "      border-right-color: var(--fill-color);\n",
              "      border-bottom-color: var(--fill-color);\n",
              "    }\n",
              "    90% {\n",
              "      border-color: transparent;\n",
              "      border-bottom-color: var(--fill-color);\n",
              "    }\n",
              "  }\n",
              "</style>\n",
              "\n",
              "  <script>\n",
              "    async function quickchart(key) {\n",
              "      const quickchartButtonEl =\n",
              "        document.querySelector('#' + key + ' button');\n",
              "      quickchartButtonEl.disabled = true;  // To prevent multiple clicks.\n",
              "      quickchartButtonEl.classList.add('colab-df-spinner');\n",
              "      try {\n",
              "        const charts = await google.colab.kernel.invokeFunction(\n",
              "            'suggestCharts', [key], {});\n",
              "      } catch (error) {\n",
              "        console.error('Error during call to suggestCharts:', error);\n",
              "      }\n",
              "      quickchartButtonEl.classList.remove('colab-df-spinner');\n",
              "      quickchartButtonEl.classList.add('colab-df-quickchart-complete');\n",
              "    }\n",
              "    (() => {\n",
              "      let quickchartButtonEl =\n",
              "        document.querySelector('#df-1e6e3c06-1479-4ccd-b063-cb37ae181c77 button');\n",
              "      quickchartButtonEl.style.display =\n",
              "        google.colab.kernel.accessAllowed ? 'block' : 'none';\n",
              "    })();\n",
              "  </script>\n",
              "</div>\n",
              "\n",
              "  <div id=\"id_c2abb7e6-561d-4d97-9d78-d285bb12c198\">\n",
              "    <style>\n",
              "      .colab-df-generate {\n",
              "        background-color: #E8F0FE;\n",
              "        border: none;\n",
              "        border-radius: 50%;\n",
              "        cursor: pointer;\n",
              "        display: none;\n",
              "        fill: #1967D2;\n",
              "        height: 32px;\n",
              "        padding: 0 0 0 0;\n",
              "        width: 32px;\n",
              "      }\n",
              "\n",
              "      .colab-df-generate:hover {\n",
              "        background-color: #E2EBFA;\n",
              "        box-shadow: 0px 1px 2px rgba(60, 64, 67, 0.3), 0px 1px 3px 1px rgba(60, 64, 67, 0.15);\n",
              "        fill: #174EA6;\n",
              "      }\n",
              "\n",
              "      [theme=dark] .colab-df-generate {\n",
              "        background-color: #3B4455;\n",
              "        fill: #D2E3FC;\n",
              "      }\n",
              "\n",
              "      [theme=dark] .colab-df-generate:hover {\n",
              "        background-color: #434B5C;\n",
              "        box-shadow: 0px 1px 3px 1px rgba(0, 0, 0, 0.15);\n",
              "        filter: drop-shadow(0px 1px 2px rgba(0, 0, 0, 0.3));\n",
              "        fill: #FFFFFF;\n",
              "      }\n",
              "    </style>\n",
              "    <button class=\"colab-df-generate\" onclick=\"generateWithVariable('test_df')\"\n",
              "            title=\"Generate code using this dataframe.\"\n",
              "            style=\"display:none;\">\n",
              "\n",
              "  <svg xmlns=\"http://www.w3.org/2000/svg\" height=\"24px\"viewBox=\"0 0 24 24\"\n",
              "       width=\"24px\">\n",
              "    <path d=\"M7,19H8.4L18.45,9,17,7.55,7,17.6ZM5,21V16.75L18.45,3.32a2,2,0,0,1,2.83,0l1.4,1.43a1.91,1.91,0,0,1,.58,1.4,1.91,1.91,0,0,1-.58,1.4L9.25,21ZM18.45,9,17,7.55Zm-12,3A5.31,5.31,0,0,0,4.9,8.1,5.31,5.31,0,0,0,1,6.5,5.31,5.31,0,0,0,4.9,4.9,5.31,5.31,0,0,0,6.5,1,5.31,5.31,0,0,0,8.1,4.9,5.31,5.31,0,0,0,12,6.5,5.46,5.46,0,0,0,6.5,12Z\"/>\n",
              "  </svg>\n",
              "    </button>\n",
              "    <script>\n",
              "      (() => {\n",
              "      const buttonEl =\n",
              "        document.querySelector('#id_c2abb7e6-561d-4d97-9d78-d285bb12c198 button.colab-df-generate');\n",
              "      buttonEl.style.display =\n",
              "        google.colab.kernel.accessAllowed ? 'block' : 'none';\n",
              "\n",
              "      buttonEl.onclick = () => {\n",
              "        google.colab.notebook.generateWithVariable('test_df');\n",
              "      }\n",
              "      })();\n",
              "    </script>\n",
              "  </div>\n",
              "\n",
              "    </div>\n",
              "  </div>\n"
            ]
          },
          "metadata": {},
          "execution_count": 3
        }
      ]
    },
    {
      "cell_type": "code",
      "source": [
        "import numpy as np\n",
        "text_embeddings_time = np.concatenate([text_embedding_function(test_df['date']),\n",
        "                                  text_embedding_function(test_df['username']),\n",
        "                                  text_embedding_function(test_df['inferred company']),\n",
        "                                  text_embedding_function(test_df['content'])], axis=1)"
      ],
      "metadata": {
        "id": "7jhIo09ldROS",
        "execution": {
          "iopub.status.busy": "2023-12-21T13:22:54.682475Z",
          "iopub.execute_input": "2023-12-21T13:22:54.683392Z",
          "iopub.status.idle": "2023-12-21T13:23:31.360030Z",
          "shell.execute_reply.started": "2023-12-21T13:22:54.683357Z",
          "shell.execute_reply": "2023-12-21T13:23:31.359220Z"
        },
        "trusted": true
      },
      "execution_count": null,
      "outputs": []
    },
    {
      "cell_type": "code",
      "source": [
        "reshaped_text_embedding=[]"
      ],
      "metadata": {
        "id": "iPYsZ4tQg1LO",
        "execution": {
          "iopub.status.busy": "2023-12-21T13:24:04.564714Z",
          "iopub.execute_input": "2023-12-21T13:24:04.565535Z",
          "iopub.status.idle": "2023-12-21T13:24:04.569454Z",
          "shell.execute_reply.started": "2023-12-21T13:24:04.565502Z",
          "shell.execute_reply": "2023-12-21T13:24:04.568464Z"
        },
        "trusted": true
      },
      "execution_count": null,
      "outputs": []
    },
    {
      "cell_type": "code",
      "source": [
        "for i in range(len(test_df)):\n",
        "      val=0\n",
        "      for j in text_embeddings_time[i]:\n",
        "          val+=j\n",
        "      reshaped_text_embedding.append(val)"
      ],
      "metadata": {
        "id": "fR30iQU8g2x2",
        "execution": {
          "iopub.status.busy": "2023-12-21T13:24:16.788995Z",
          "iopub.execute_input": "2023-12-21T13:24:16.789697Z",
          "iopub.status.idle": "2023-12-21T13:24:26.041034Z",
          "shell.execute_reply.started": "2023-12-21T13:24:16.789661Z",
          "shell.execute_reply": "2023-12-21T13:24:26.039998Z"
        },
        "trusted": true
      },
      "execution_count": null,
      "outputs": []
    },
    {
      "cell_type": "code",
      "source": [
        "reshaped_text_embedding=np.array(reshaped_text_embedding)"
      ],
      "metadata": {
        "id": "tBs6XtH_hHar",
        "execution": {
          "iopub.status.busy": "2023-12-21T13:24:28.877252Z",
          "iopub.execute_input": "2023-12-21T13:24:28.877651Z",
          "iopub.status.idle": "2023-12-21T13:24:28.883267Z",
          "shell.execute_reply.started": "2023-12-21T13:24:28.877614Z",
          "shell.execute_reply": "2023-12-21T13:24:28.882236Z"
        },
        "trusted": true
      },
      "execution_count": null,
      "outputs": []
    },
    {
      "cell_type": "code",
      "source": [
        "reshaped_text_embedding=reshaped_text_embedding.reshape((len(test_df),1))"
      ],
      "metadata": {
        "id": "lUfokgZVhIsR",
        "execution": {
          "iopub.status.busy": "2023-12-21T13:24:29.623102Z",
          "iopub.execute_input": "2023-12-21T13:24:29.623436Z",
          "iopub.status.idle": "2023-12-21T13:24:29.627830Z",
          "shell.execute_reply.started": "2023-12-21T13:24:29.623413Z",
          "shell.execute_reply": "2023-12-21T13:24:29.626790Z"
        },
        "trusted": true
      },
      "execution_count": null,
      "outputs": []
    },
    {
      "cell_type": "code",
      "source": [
        "X_test_time = reshaped_text_embedding"
      ],
      "metadata": {
        "execution": {
          "iopub.status.busy": "2023-12-21T13:25:11.957207Z",
          "iopub.execute_input": "2023-12-21T13:25:11.958186Z",
          "iopub.status.idle": "2023-12-21T13:25:11.963498Z",
          "shell.execute_reply.started": "2023-12-21T13:25:11.958141Z",
          "shell.execute_reply": "2023-12-21T13:25:11.962352Z"
        },
        "trusted": true,
        "id": "NlgPgjIIhQfC"
      },
      "execution_count": null,
      "outputs": []
    },
    {
      "cell_type": "code",
      "source": [
        "y_pred = model.predict(X_test_time)"
      ],
      "metadata": {
        "id": "K1PEwuc6lObd",
        "outputId": "27ddf9eb-00ad-4c2c-f461-29a7412a84e6",
        "execution": {
          "iopub.status.busy": "2023-12-21T13:25:16.705824Z",
          "iopub.execute_input": "2023-12-21T13:25:16.706219Z",
          "iopub.status.idle": "2023-12-21T13:25:17.786588Z",
          "shell.execute_reply.started": "2023-12-21T13:25:16.706188Z",
          "shell.execute_reply": "2023-12-21T13:25:17.785787Z"
        },
        "trusted": true,
        "colab": {
          "base_uri": "https://localhost:8080/"
        }
      },
      "execution_count": null,
      "outputs": [
        {
          "output_type": "stream",
          "name": "stdout",
          "text": [
            "1/1 [==============================] - 0s 243ms/step\n"
          ]
        }
      ]
    },
    {
      "cell_type": "code",
      "source": [
        "y_pred=y_pred.reshape(-1)"
      ],
      "metadata": {
        "id": "v6cJTaFJdROV",
        "execution": {
          "iopub.status.busy": "2023-12-21T13:25:22.131206Z",
          "iopub.execute_input": "2023-12-21T13:25:22.131582Z",
          "iopub.status.idle": "2023-12-21T13:25:22.136043Z",
          "shell.execute_reply.started": "2023-12-21T13:25:22.131550Z",
          "shell.execute_reply": "2023-12-21T13:25:22.134930Z"
        },
        "trusted": true
      },
      "execution_count": null,
      "outputs": []
    },
    {
      "cell_type": "code",
      "source": [
        "y_pred = y_pred * 1000"
      ],
      "metadata": {
        "execution": {
          "iopub.status.busy": "2023-12-21T13:25:43.812477Z",
          "iopub.execute_input": "2023-12-21T13:25:43.813227Z",
          "iopub.status.idle": "2023-12-21T13:25:43.818042Z",
          "shell.execute_reply.started": "2023-12-21T13:25:43.813195Z",
          "shell.execute_reply": "2023-12-21T13:25:43.817015Z"
        },
        "trusted": true,
        "id": "L14yT2rihQfD"
      },
      "execution_count": null,
      "outputs": []
    },
    {
      "cell_type": "code",
      "source": [
        "y_pred"
      ],
      "metadata": {
        "id": "3HURX7o9dROV",
        "outputId": "0e8f0d2d-0692-49f7-86c0-24cfbc2e9a40",
        "execution": {
          "iopub.status.busy": "2023-12-21T13:25:45.074642Z",
          "iopub.execute_input": "2023-12-21T13:25:45.075029Z",
          "iopub.status.idle": "2023-12-21T13:25:45.081883Z",
          "shell.execute_reply.started": "2023-12-21T13:25:45.075001Z",
          "shell.execute_reply": "2023-12-21T13:25:45.080885Z"
        },
        "trusted": true,
        "colab": {
          "base_uri": "https://localhost:8080/"
        }
      },
      "execution_count": null,
      "outputs": [
        {
          "output_type": "execute_result",
          "data": {
            "text/plain": [
              "array([1262.7041 ,  427.78625,  886.6557 , 1593.1985 ,  391.3914 ],\n",
              "      dtype=float32)"
            ]
          },
          "metadata": {},
          "execution_count": 23
        }
      ]
    },
    {
      "cell_type": "code",
      "source": [
        "# mse=0\n",
        "# idx=0\n",
        "# for i in y_test:\n",
        "#     mse+=(i-y_pred[idx])*(i-y_pred[idx])\n",
        "#     idx+=1\n",
        "# mse=mse/len(y_test)"
      ],
      "metadata": {
        "execution": {
          "iopub.status.busy": "2023-12-15T16:20:04.733658Z",
          "iopub.execute_input": "2023-12-15T16:20:04.734056Z",
          "iopub.status.idle": "2023-12-15T16:20:04.745548Z",
          "shell.execute_reply.started": "2023-12-15T16:20:04.734024Z",
          "shell.execute_reply": "2023-12-15T16:20:04.744505Z"
        },
        "id": "mSSoJcsfdROV",
        "trusted": true
      },
      "execution_count": null,
      "outputs": []
    },
    {
      "cell_type": "code",
      "source": [
        "mse"
      ],
      "metadata": {
        "execution": {
          "iopub.status.busy": "2023-12-15T16:20:09.718505Z",
          "iopub.execute_input": "2023-12-15T16:20:09.719357Z",
          "iopub.status.idle": "2023-12-15T16:20:09.725340Z",
          "shell.execute_reply.started": "2023-12-15T16:20:09.719322Z",
          "shell.execute_reply": "2023-12-15T16:20:09.724299Z"
        },
        "id": "-P5qYdDedROV",
        "trusted": true
      },
      "execution_count": null,
      "outputs": []
    },
    {
      "cell_type": "code",
      "source": [
        "df = pd.read_excel('/kaggle/input/adobe-test-dataset/behaviour_simulation_test_company.xlsx')\n",
        "df.to_csv('behaviour_simulation_test_company.csv', index=False)\n",
        "test_data=pd.read_csv('behaviour_simulation_test_company.csv')\n",
        "\n",
        "test_df2 = pd.DataFrame(test_data)"
      ],
      "metadata": {
        "execution": {
          "iopub.status.busy": "2023-12-15T16:46:23.742022Z",
          "iopub.execute_input": "2023-12-15T16:46:23.742926Z",
          "iopub.status.idle": "2023-12-15T16:46:26.261553Z",
          "shell.execute_reply.started": "2023-12-15T16:46:23.742893Z",
          "shell.execute_reply": "2023-12-15T16:46:26.260769Z"
        },
        "id": "tiqq-xiudROV",
        "trusted": true
      },
      "execution_count": null,
      "outputs": []
    },
    {
      "cell_type": "code",
      "source": [
        "test_df2"
      ],
      "metadata": {
        "execution": {
          "iopub.status.busy": "2023-12-15T16:47:25.517048Z",
          "iopub.execute_input": "2023-12-15T16:47:25.517784Z",
          "iopub.status.idle": "2023-12-15T16:47:25.531777Z",
          "shell.execute_reply.started": "2023-12-15T16:47:25.517752Z",
          "shell.execute_reply": "2023-12-15T16:47:25.530858Z"
        },
        "id": "nRN5I1m7dROW",
        "outputId": "2f6d01ab-0275-4376-c902-e81e39989ad5",
        "trusted": true
      },
      "execution_count": null,
      "outputs": [
        {
          "execution_count": 79,
          "output_type": "execute_result",
          "data": {
            "text/plain": "         id                 date  \\\n0         1  2019-01-08 18:03:10   \n1         2  2018-01-29 10:51:17   \n2         3  2019-09-05 07:25:14   \n3         4  2018-03-28 18:15:00   \n4         5  2019-09-11 21:15:44   \n...     ...                  ...   \n9995   9996  2020-01-25 01:45:07   \n9996   9997  2019-06-26 12:51:27   \n9997   9998  2019-05-06 10:37:03   \n9998   9999  2019-05-19 12:00:51   \n9999  10000  2019-05-18 17:04:14   \n\n                                                content        username  \\\n0              the Heathrow drone right now <hyperlink>        bbcthree   \n1     A deal at £60m?\\n\\nThe latest on Pierre-Emeric...        BBCSport   \n2     \"Dealing with Boris Johnson is like someone de...     BBCPolitics   \n3     Doesn't unlimited food &amp; drinks all night ...  BrdgstoneArena   \n4     Apple Watch Series 5.\\n\\nYou’ve never seen a w...         BestBuy   \n...                                                 ...             ...   \n9995  \"So what do all these defenses mean? What they...  HouseIntelDems   \n9996  In this week’s #MacroMemo, we explore last wee...      rbcgamnews   \n9997  When it's bank holiday Monday and someone ment...   bbceastenders   \n9998  England boss Gareth Southgate says he is conce...        BBCSport   \n9999  We're back under way in the Women's Champions ...        BBCSport   \n\n                                                  media inferred company  \n0     [Photo(previewUrl='https://pbs.twimg.com/media...              bbc  \n1     [Photo(previewUrl='https://pbs.twimg.com/media...              bbc  \n2     [Video(thumbnailUrl='https://pbs.twimg.com/med...              bbc  \n3     [Photo(previewUrl='https://pbs.twimg.com/media...      bridgestone  \n4     [Video(thumbnailUrl='https://pbs.twimg.com/ext...         best buy  \n...                                                 ...              ...  \n9995  [Video(thumbnailUrl='https://pbs.twimg.com/med...            house  \n9996  [Photo(previewUrl='https://pbs.twimg.com/media...              rbc  \n9997  [Gif(thumbnailUrl='https://pbs.twimg.com/tweet...              bbc  \n9998  [Photo(previewUrl='https://pbs.twimg.com/media...              bbc  \n9999  [Photo(previewUrl='https://pbs.twimg.com/media...              bbc  \n\n[10000 rows x 6 columns]",
            "text/html": "<div>\n<style scoped>\n    .dataframe tbody tr th:only-of-type {\n        vertical-align: middle;\n    }\n\n    .dataframe tbody tr th {\n        vertical-align: top;\n    }\n\n    .dataframe thead th {\n        text-align: right;\n    }\n</style>\n<table border=\"1\" class=\"dataframe\">\n  <thead>\n    <tr style=\"text-align: right;\">\n      <th></th>\n      <th>id</th>\n      <th>date</th>\n      <th>content</th>\n      <th>username</th>\n      <th>media</th>\n      <th>inferred company</th>\n    </tr>\n  </thead>\n  <tbody>\n    <tr>\n      <th>0</th>\n      <td>1</td>\n      <td>2019-01-08 18:03:10</td>\n      <td>the Heathrow drone right now &lt;hyperlink&gt;</td>\n      <td>bbcthree</td>\n      <td>[Photo(previewUrl='https://pbs.twimg.com/media...</td>\n      <td>bbc</td>\n    </tr>\n    <tr>\n      <th>1</th>\n      <td>2</td>\n      <td>2018-01-29 10:51:17</td>\n      <td>A deal at £60m?\\n\\nThe latest on Pierre-Emeric...</td>\n      <td>BBCSport</td>\n      <td>[Photo(previewUrl='https://pbs.twimg.com/media...</td>\n      <td>bbc</td>\n    </tr>\n    <tr>\n      <th>2</th>\n      <td>3</td>\n      <td>2019-09-05 07:25:14</td>\n      <td>\"Dealing with Boris Johnson is like someone de...</td>\n      <td>BBCPolitics</td>\n      <td>[Video(thumbnailUrl='https://pbs.twimg.com/med...</td>\n      <td>bbc</td>\n    </tr>\n    <tr>\n      <th>3</th>\n      <td>4</td>\n      <td>2018-03-28 18:15:00</td>\n      <td>Doesn't unlimited food &amp;amp; drinks all night ...</td>\n      <td>BrdgstoneArena</td>\n      <td>[Photo(previewUrl='https://pbs.twimg.com/media...</td>\n      <td>bridgestone</td>\n    </tr>\n    <tr>\n      <th>4</th>\n      <td>5</td>\n      <td>2019-09-11 21:15:44</td>\n      <td>Apple Watch Series 5.\\n\\nYou’ve never seen a w...</td>\n      <td>BestBuy</td>\n      <td>[Video(thumbnailUrl='https://pbs.twimg.com/ext...</td>\n      <td>best buy</td>\n    </tr>\n    <tr>\n      <th>...</th>\n      <td>...</td>\n      <td>...</td>\n      <td>...</td>\n      <td>...</td>\n      <td>...</td>\n      <td>...</td>\n    </tr>\n    <tr>\n      <th>9995</th>\n      <td>9996</td>\n      <td>2020-01-25 01:45:07</td>\n      <td>\"So what do all these defenses mean? What they...</td>\n      <td>HouseIntelDems</td>\n      <td>[Video(thumbnailUrl='https://pbs.twimg.com/med...</td>\n      <td>house</td>\n    </tr>\n    <tr>\n      <th>9996</th>\n      <td>9997</td>\n      <td>2019-06-26 12:51:27</td>\n      <td>In this week’s #MacroMemo, we explore last wee...</td>\n      <td>rbcgamnews</td>\n      <td>[Photo(previewUrl='https://pbs.twimg.com/media...</td>\n      <td>rbc</td>\n    </tr>\n    <tr>\n      <th>9997</th>\n      <td>9998</td>\n      <td>2019-05-06 10:37:03</td>\n      <td>When it's bank holiday Monday and someone ment...</td>\n      <td>bbceastenders</td>\n      <td>[Gif(thumbnailUrl='https://pbs.twimg.com/tweet...</td>\n      <td>bbc</td>\n    </tr>\n    <tr>\n      <th>9998</th>\n      <td>9999</td>\n      <td>2019-05-19 12:00:51</td>\n      <td>England boss Gareth Southgate says he is conce...</td>\n      <td>BBCSport</td>\n      <td>[Photo(previewUrl='https://pbs.twimg.com/media...</td>\n      <td>bbc</td>\n    </tr>\n    <tr>\n      <th>9999</th>\n      <td>10000</td>\n      <td>2019-05-18 17:04:14</td>\n      <td>We're back under way in the Women's Champions ...</td>\n      <td>BBCSport</td>\n      <td>[Photo(previewUrl='https://pbs.twimg.com/media...</td>\n      <td>bbc</td>\n    </tr>\n  </tbody>\n</table>\n<p>10000 rows × 6 columns</p>\n</div>"
          },
          "metadata": {}
        }
      ]
    },
    {
      "cell_type": "code",
      "source": [
        "text_embeddings_company = np.concatenate([text_embedding_function(test_df2['date']),\n",
        "                                  text_embedding_function(test_df2['username']),\n",
        "                                  text_embedding_function(test_df2['inferred company']),\n",
        "                                  text_embedding_function(test_df2['content'])], axis=1)"
      ],
      "metadata": {
        "execution": {
          "iopub.status.busy": "2023-12-15T16:46:47.501580Z",
          "iopub.execute_input": "2023-12-15T16:46:47.502408Z",
          "iopub.status.idle": "2023-12-15T16:47:09.381334Z",
          "shell.execute_reply.started": "2023-12-15T16:46:47.502374Z",
          "shell.execute_reply": "2023-12-15T16:47:09.380285Z"
        },
        "id": "bkGX6-lydROW",
        "trusted": true
      },
      "execution_count": null,
      "outputs": []
    },
    {
      "cell_type": "code",
      "source": [
        "reshaped_text_embedding=[]"
      ],
      "metadata": {
        "execution": {
          "iopub.status.busy": "2023-12-15T16:51:12.052312Z",
          "iopub.execute_input": "2023-12-15T16:51:12.052773Z",
          "iopub.status.idle": "2023-12-15T16:51:12.057653Z",
          "shell.execute_reply.started": "2023-12-15T16:51:12.052735Z",
          "shell.execute_reply": "2023-12-15T16:51:12.056452Z"
        },
        "id": "0Ef5m83EdROW",
        "trusted": true
      },
      "execution_count": null,
      "outputs": []
    },
    {
      "cell_type": "code",
      "source": [
        "for i in range(len(test_df)):\n",
        "      val=0\n",
        "      for j in text_embeddings_time[i]:\n",
        "          val+=j\n",
        "      reshaped_text_embedding.append(val)"
      ],
      "metadata": {
        "id": "cDYIse6NiDEW"
      },
      "execution_count": null,
      "outputs": []
    },
    {
      "cell_type": "code",
      "source": [
        "reshaped_text_embedding=np.array(reshaped_text_embedding)"
      ],
      "metadata": {
        "id": "hSRVh984iR0k"
      },
      "execution_count": null,
      "outputs": []
    },
    {
      "cell_type": "code",
      "source": [
        "reshaped_text_embedding=reshaped_text_embedding.reshape((len(test_df),1))"
      ],
      "metadata": {
        "id": "KJY-1k9_iF7a"
      },
      "execution_count": null,
      "outputs": []
    },
    {
      "cell_type": "code",
      "source": [
        "X_test_comapny = reshaped_text_embedding"
      ],
      "metadata": {
        "id": "u-a-IvnpiUe9"
      },
      "execution_count": null,
      "outputs": []
    },
    {
      "cell_type": "code",
      "source": [
        "y_pred = model.predict(X_test_company)"
      ],
      "metadata": {
        "execution": {
          "iopub.status.busy": "2023-12-15T16:51:15.472122Z",
          "iopub.execute_input": "2023-12-15T16:51:15.472701Z",
          "iopub.status.idle": "2023-12-15T16:51:16.343336Z",
          "shell.execute_reply.started": "2023-12-15T16:51:15.472669Z",
          "shell.execute_reply": "2023-12-15T16:51:16.342525Z"
        },
        "id": "anDPUEM6dROW",
        "outputId": "851f25ee-3a50-48b4-e159-69a4d73c9632",
        "trusted": true
      },
      "execution_count": null,
      "outputs": [
        {
          "name": "stdout",
          "text": "313/313 [==============================] - 1s 2ms/step\n",
          "output_type": "stream"
        }
      ]
    },
    {
      "cell_type": "code",
      "source": [
        "y_pred=y_pred.reshape(-1)"
      ],
      "metadata": {
        "execution": {
          "iopub.status.busy": "2023-12-15T16:51:23.246489Z",
          "iopub.execute_input": "2023-12-15T16:51:23.247190Z",
          "iopub.status.idle": "2023-12-15T16:51:23.251390Z",
          "shell.execute_reply.started": "2023-12-15T16:51:23.247160Z",
          "shell.execute_reply": "2023-12-15T16:51:23.250258Z"
        },
        "id": "iEUfZ0wrdROW",
        "trusted": true
      },
      "execution_count": null,
      "outputs": []
    },
    {
      "cell_type": "code",
      "source": [
        "y_pred = y_pred * 1000"
      ],
      "metadata": {
        "id": "hiKC319Vht2R"
      },
      "execution_count": null,
      "outputs": []
    },
    {
      "cell_type": "code",
      "source": [
        "y_pred"
      ],
      "metadata": {
        "execution": {
          "iopub.status.busy": "2023-12-15T16:51:29.621599Z",
          "iopub.execute_input": "2023-12-15T16:51:29.622260Z",
          "iopub.status.idle": "2023-12-15T16:51:29.628977Z",
          "shell.execute_reply.started": "2023-12-15T16:51:29.622227Z",
          "shell.execute_reply": "2023-12-15T16:51:29.628003Z"
        },
        "id": "sfof51FtdROW",
        "outputId": "64a64e94-5946-41fb-d437-b0cb1ba9c27b",
        "trusted": true
      },
      "execution_count": null,
      "outputs": [
        {
          "execution_count": 90,
          "output_type": "execute_result",
          "data": {
            "text/plain": "array([0.41054586, 0.47821495, 0.3749732 , ..., 0.37888548, 0.7872715 ,\n       1.139032  ], dtype=float32)"
          },
          "metadata": {}
        }
      ]
    },
    {
      "cell_type": "code",
      "source": [
        "# mse=0\n",
        "# idx=0\n",
        "# for i in y_test:\n",
        "#     mse+=(i-y_pred[idx])*(i-y_pred[idx])\n",
        "#     idx+=1\n",
        "# mse=mse/len(y_test)"
      ],
      "metadata": {
        "id": "iDvzh0GVdROW"
      },
      "execution_count": null,
      "outputs": []
    },
    {
      "cell_type": "code",
      "source": [
        "mse"
      ],
      "metadata": {
        "id": "eTxDuzC0dROX"
      },
      "execution_count": null,
      "outputs": []
    }
  ]
}